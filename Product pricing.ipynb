{
 "cells": [
  {
   "cell_type": "markdown",
   "id": "e3fe9e6e",
   "metadata": {},
   "source": [
    "# Product Pricing"
   ]
  },
  {
   "cell_type": "code",
   "execution_count": 4,
   "id": "be3ceb34",
   "metadata": {},
   "outputs": [
    {
     "name": "stdout",
     "output_type": "stream",
     "text": [
      "Enter Product name: Fishing Hook\n",
      "Product Qauntity: 10000\n",
      "Total Product cost: 80000\n",
      "Labour charges: 80000\n",
      "Material Cost: 40000\n",
      "Enter tax on product: 5000\n",
      "Electical charges: 10000\n",
      "Total Profit250000\n"
     ]
    },
    {
     "data": {
      "text/plain": [
       "{'Product name: ': 'Fishing Hook',\n",
       " 'Total Costing: ': 465000,\n",
       " 'CPP: ': 46.5,\n",
       " 'Profit: ': 25.0}"
      ]
     },
     "execution_count": 4,
     "metadata": {},
     "output_type": "execute_result"
    }
   ],
   "source": [
    "product_name = input(\"Enter Product name: \") # Product name\n",
    "product_qauntity = int(input(\"Product Qauntity: \")) # How much product do you have at the time\n",
    "p_cost = int(input(\"Total Product cost: \")) # Bulk piece of product cost\n",
    "labour = int(input(\"Labour charges: \")) # How much you give to the worker\n",
    "material_chrg = int(input(\"Material Cost: \")) # How much material it cost to build a product\n",
    "taxes = int(input(\"Enter tax on product: \")) # how much tax you need to pay at the product\n",
    "electric_chrgs = int(input(\"Electical charges: \")) # How much electicity it cost to make the product\n",
    "profit = int(input(\"Total Profit\")) # How much profit do you want on bulk pieces\n",
    "total_cost = p_cost+labour+material_chrg+electric_chrgs+profit+taxes # Sum of all\n",
    "cost_per_piece = total_cost/product_qauntity # how much it costed you to make a single piece\n",
    "pp = profit/product_qauntity\n",
    "sp = pp+cost_per_piece \n",
    "posp = sp-cost_per_piece # profit on single product\n",
    "\n",
    "\n",
    "df = ({\n",
    "    \"Product name: \":product_name,\n",
    "    \"Total Costing: \":total_cost,\n",
    "    \"CPP: \":cost_per_piece,\n",
    "    \"Profit: \":posp\n",
    "})\n",
    "df"
   ]
  }
 ],
 "metadata": {
  "kernelspec": {
   "display_name": "Python 3 (ipykernel)",
   "language": "python",
   "name": "python3"
  },
  "language_info": {
   "codemirror_mode": {
    "name": "ipython",
    "version": 3
   },
   "file_extension": ".py",
   "mimetype": "text/x-python",
   "name": "python",
   "nbconvert_exporter": "python",
   "pygments_lexer": "ipython3",
   "version": "3.10.9"
  }
 },
 "nbformat": 4,
 "nbformat_minor": 5
}
